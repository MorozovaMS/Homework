{
  "cells": [
    {
      "cell_type": "markdown",
      "metadata": {
        "id": "qVrTo-LhL9eS"
      },
      "source": [
        "# Introduction"
      ]
    },
    {
      "cell_type": "markdown",
      "metadata": {
        "id": "9t1gKp9PL9eV"
      },
      "source": [
        "Python is a great general-purpose programming language on its own, but with the help of a few popular libraries (numpy, scipy, matplotlib) it becomes a powerful environment for scientific computing."
      ]
    },
    {
      "cell_type": "markdown",
      "metadata": {
        "id": "U1PvreR9L9eW"
      },
      "source": [
        "In this tutorial, we will cover:\n",
        "- Basic data types\n",
        "- Functions\n",
        "- Classes"
      ]
    },
    {
      "cell_type": "code",
      "execution_count": null,
      "metadata": {
        "colab": {
          "base_uri": "https://localhost:8080/"
        },
        "id": "4AUmtCwF9Oqa",
        "outputId": "aedf642a-9286-44d4-dcde-6430d6f2cb96"
      },
      "outputs": [
        {
          "output_type": "stream",
          "name": "stdout",
          "text": [
            "Python 3.10.12\n"
          ]
        }
      ],
      "source": [
        "!python --version"
      ]
    },
    {
      "cell_type": "code",
      "execution_count": null,
      "metadata": {
        "colab": {
          "base_uri": "https://localhost:8080/"
        },
        "id": "_h1B9Z-h9Oqh",
        "outputId": "ee57c083-9e10-4092-af81-02e7bbaebb1b"
      },
      "outputs": [
        {
          "output_type": "stream",
          "name": "stdout",
          "text": [
            "The Zen of Python, by Tim Peters\n",
            "\n",
            "Beautiful is better than ugly.\n",
            "Explicit is better than implicit.\n",
            "Simple is better than complex.\n",
            "Complex is better than complicated.\n",
            "Flat is better than nested.\n",
            "Sparse is better than dense.\n",
            "Readability counts.\n",
            "Special cases aren't special enough to break the rules.\n",
            "Although practicality beats purity.\n",
            "Errors should never pass silently.\n",
            "Unless explicitly silenced.\n",
            "In the face of ambiguity, refuse the temptation to guess.\n",
            "There should be one-- and preferably only one --obvious way to do it.\n",
            "Although that way may not be obvious at first unless you're Dutch.\n",
            "Now is better than never.\n",
            "Although never is often better than *right* now.\n",
            "If the implementation is hard to explain, it's a bad idea.\n",
            "If the implementation is easy to explain, it may be a good idea.\n",
            "Namespaces are one honking great idea -- let's do more of those!\n"
          ]
        }
      ],
      "source": [
        "import this"
      ]
    },
    {
      "cell_type": "markdown",
      "metadata": {
        "id": "i7-dDd1L9Oqk"
      },
      "source": [
        "![image.png](attachment:image.png)"
      ]
    },
    {
      "cell_type": "markdown",
      "metadata": {
        "id": "JAFKYgrpL9eY"
      },
      "source": [
        "# Basics of Python\n",
        "Python is a high-level, dynamically typed multiparadigm programming language. Python code is often said to be almost like pseudocode, since it allows you to express very powerful ideas in very few lines of code while being very readable. As an example, here is an implementation of the classic quicksort algorithm in Python:"
      ]
    },
    {
      "cell_type": "code",
      "execution_count": null,
      "metadata": {
        "colab": {
          "base_uri": "https://localhost:8080/",
          "height": 34
        },
        "id": "cYb0pjh1L9eb",
        "outputId": "9a8e37de-1dc1-4092-faee-06ad4ff2d73a"
      },
      "outputs": [
        {
          "name": "stdout",
          "output_type": "stream",
          "text": [
            "[1, 1, 2, 3, 6, 8, 10]\n"
          ]
        }
      ],
      "source": [
        "def quicksort(arr):\n",
        "    if len(arr) <= 1:\n",
        "        return arr\n",
        "    pivot = arr[len(arr) // 2]\n",
        "    left = [x for x in arr if x < pivot]\n",
        "    middle = [x for x in arr if x == pivot]\n",
        "    right = [x for x in arr if x > pivot]\n",
        "    return quicksort(left) + middle + quicksort(right)\n",
        "\n",
        "print(quicksort([3,6,8,10,1,2,1]))"
      ]
    },
    {
      "cell_type": "markdown",
      "metadata": {
        "id": "NwS_hu4xL9eo"
      },
      "source": [
        "## Basic data types"
      ]
    },
    {
      "cell_type": "markdown",
      "metadata": {
        "id": "DL5sMSZ9L9eq"
      },
      "source": [
        "### Numbers"
      ]
    },
    {
      "cell_type": "markdown",
      "metadata": {
        "id": "MGS0XEWoL9er"
      },
      "source": [
        "Integers and floats work as you would expect from other languages:"
      ]
    },
    {
      "cell_type": "code",
      "execution_count": null,
      "metadata": {
        "colab": {
          "base_uri": "https://localhost:8080/"
        },
        "id": "KheDr_zDL9es",
        "outputId": "a856b2b9-27de-4454-adcc-bbd4178dcd6f"
      },
      "outputs": [
        {
          "output_type": "stream",
          "name": "stdout",
          "text": [
            "3 <class 'int'>\n"
          ]
        }
      ],
      "source": [
        "x = 3\n",
        "print(x, type(x))"
      ]
    },
    {
      "cell_type": "code",
      "execution_count": null,
      "metadata": {
        "colab": {
          "base_uri": "https://localhost:8080/"
        },
        "id": "sk_8DFcuL9ey",
        "outputId": "825af862-859b-481b-bd57-3851e93d8b80"
      },
      "outputs": [
        {
          "output_type": "stream",
          "name": "stdout",
          "text": [
            "4\n",
            "2\n",
            "6\n",
            "9\n"
          ]
        }
      ],
      "source": [
        "print(x + 1)   # Addition\n",
        "print(x - 1)   # Subtraction\n",
        "print(x * 2)   # Multiplication\n",
        "print(x ** 2)  # Exponentiation"
      ]
    },
    {
      "cell_type": "code",
      "execution_count": null,
      "metadata": {
        "colab": {
          "base_uri": "https://localhost:8080/",
          "height": 52
        },
        "id": "U4Jl8K0tL9e4",
        "outputId": "07e3db14-3781-42b7-8ba6-042b3f9f72ba"
      },
      "outputs": [
        {
          "name": "stdout",
          "output_type": "stream",
          "text": [
            "4\n",
            "8\n"
          ]
        }
      ],
      "source": [
        "x += 1\n",
        "print(x)\n",
        "x *= 2\n",
        "print(x)"
      ]
    },
    {
      "cell_type": "code",
      "execution_count": null,
      "metadata": {
        "colab": {
          "base_uri": "https://localhost:8080/",
          "height": 52
        },
        "id": "w-nZ0Sg_L9e9",
        "outputId": "3aa579f8-9540-46ef-935e-be887781ecb4"
      },
      "outputs": [
        {
          "name": "stdout",
          "output_type": "stream",
          "text": [
            "<class 'float'>\n",
            "2.5 3.5 5.0 6.25\n"
          ]
        }
      ],
      "source": [
        "y = 2.5\n",
        "print(type(y))\n",
        "print(y, y + 1, y * 2, y ** 2)"
      ]
    },
    {
      "cell_type": "markdown",
      "metadata": {
        "id": "r2A9ApyaL9fB"
      },
      "source": [
        "Note that unlike many languages, Python does not have unary increment (x++) or decrement (x--) operators.\n",
        "\n",
        "Python also has built-in types for long integers and complex numbers; you can find all of the details in the [documentation](https://docs.python.org/3.7/library/stdtypes.html#numeric-types-int-float-long-complex)."
      ]
    },
    {
      "cell_type": "markdown",
      "metadata": {
        "id": "EqRS7qhBL9fC"
      },
      "source": [
        "### Booleans"
      ]
    },
    {
      "cell_type": "markdown",
      "metadata": {
        "id": "Nv_LIVOJL9fD"
      },
      "source": [
        "Python implements all of the usual operators for Boolean logic, but uses English words rather than symbols (`&&`, `||`, etc.):"
      ]
    },
    {
      "cell_type": "code",
      "execution_count": null,
      "metadata": {
        "colab": {
          "base_uri": "https://localhost:8080/",
          "height": 34
        },
        "id": "RvoImwgGL9fE",
        "outputId": "1517077b-edca-463f-857b-6a8c386cd387"
      },
      "outputs": [
        {
          "name": "stdout",
          "output_type": "stream",
          "text": [
            "<class 'bool'>\n"
          ]
        }
      ],
      "source": [
        "t, f = True, False\n",
        "print(type(t))"
      ]
    },
    {
      "cell_type": "markdown",
      "metadata": {
        "id": "YQgmQfOgL9fI"
      },
      "source": [
        "Now we let's look at the operations:"
      ]
    },
    {
      "cell_type": "code",
      "execution_count": null,
      "metadata": {
        "colab": {
          "base_uri": "https://localhost:8080/",
          "height": 86
        },
        "id": "6zYm7WzCL9fK",
        "outputId": "f3cebe76-5af4-473a-8127-88a1fd60560f"
      },
      "outputs": [
        {
          "name": "stdout",
          "output_type": "stream",
          "text": [
            "False\n",
            "True\n",
            "False\n",
            "True\n"
          ]
        }
      ],
      "source": [
        "print(t and f) # Logical AND;\n",
        "print(t or f)  # Logical OR;\n",
        "print(not t)   # Logical NOT;\n",
        "print(t != f)  # Logical XOR;"
      ]
    },
    {
      "cell_type": "markdown",
      "metadata": {
        "id": "UQnQWFEyL9fP"
      },
      "source": [
        "### Strings"
      ]
    },
    {
      "cell_type": "code",
      "execution_count": null,
      "metadata": {
        "colab": {
          "base_uri": "https://localhost:8080/",
          "height": 34
        },
        "id": "AijEDtPFL9fP",
        "outputId": "2a6b0cd7-58f1-43cf-e6b7-bf940d532549"
      },
      "outputs": [
        {
          "name": "stdout",
          "output_type": "stream",
          "text": [
            "hello 5\n"
          ]
        }
      ],
      "source": [
        "hello = 'hello'   # String literals can use single quotes\n",
        "world = \"world\"   # or double quotes; it does not matter\n",
        "print(hello, len(hello))"
      ]
    },
    {
      "cell_type": "code",
      "execution_count": null,
      "metadata": {
        "colab": {
          "base_uri": "https://localhost:8080/",
          "height": 34
        },
        "id": "saDeaA7hL9fT",
        "outputId": "2837d0ab-9ae5-4053-d087-bfa0af81c344"
      },
      "outputs": [
        {
          "name": "stdout",
          "output_type": "stream",
          "text": [
            "hello world\n"
          ]
        }
      ],
      "source": [
        "hw = hello + ' ' + world  # String concatenation\n",
        "print(hw)"
      ]
    },
    {
      "cell_type": "code",
      "execution_count": null,
      "metadata": {
        "colab": {
          "base_uri": "https://localhost:8080/",
          "height": 34
        },
        "id": "Nji1_UjYL9fY",
        "outputId": "0149b0ca-425a-4a34-8e24-8dff7080922e"
      },
      "outputs": [
        {
          "name": "stdout",
          "output_type": "stream",
          "text": [
            "hello world 12\n"
          ]
        }
      ],
      "source": [
        "hw12 = '{} {} {}'.format(hello, world, 12)  # string formatting\n",
        "print(hw12)"
      ]
    },
    {
      "cell_type": "markdown",
      "metadata": {
        "id": "bUpl35bIL9fc"
      },
      "source": [
        "String objects have a bunch of useful methods; for example:"
      ]
    },
    {
      "cell_type": "code",
      "execution_count": null,
      "metadata": {
        "colab": {
          "base_uri": "https://localhost:8080/"
        },
        "id": "VOxGatlsL9fd",
        "outputId": "4cbabb59-dda1-4600-dbb3-7cbc3b2b0906"
      },
      "outputs": [
        {
          "output_type": "stream",
          "name": "stdout",
          "text": [
            "Hello\n",
            "HELLO\n",
            "  hello\n",
            " hello \n",
            "he(ell)(ell)o\n",
            "world\n"
          ]
        }
      ],
      "source": [
        "s = \"hello\"\n",
        "print(s.capitalize())  # Capitalize a string\n",
        "print(s.upper())       # Convert a string to uppercase; prints \"HELLO\"\n",
        "print(s.rjust(7))      # Right-justify a string, padding with spaces\n",
        "print(s.center(7))     # Center a string, padding with spaces\n",
        "print(s.replace('l', '(ell)'))  # Replace all instances of one substring with another\n",
        "print('  world '.strip())  # Strip leading and trailing whitespace"
      ]
    },
    {
      "cell_type": "markdown",
      "metadata": {
        "id": "06cayXLtL9fi"
      },
      "source": [
        "You can find a list of all string methods in the [documentation](https://docs.python.org/3.7/library/stdtypes.html#string-methods)."
      ]
    },
    {
      "cell_type": "markdown",
      "metadata": {
        "id": "p-6hClFjL9fk"
      },
      "source": [
        "## Containers"
      ]
    },
    {
      "cell_type": "markdown",
      "metadata": {
        "id": "FD9H18eQL9fk"
      },
      "source": [
        "Python includes several built-in container types: lists, dictionaries, sets, and tuples."
      ]
    },
    {
      "cell_type": "markdown",
      "metadata": {
        "id": "UsIWOe0LL9fn"
      },
      "source": [
        "### Lists"
      ]
    },
    {
      "cell_type": "markdown",
      "metadata": {
        "id": "wzxX7rgWL9fn"
      },
      "source": [
        "A list is the Python equivalent of an array, but is resizeable and can contain elements of different types:"
      ]
    },
    {
      "cell_type": "code",
      "execution_count": null,
      "metadata": {
        "colab": {
          "base_uri": "https://localhost:8080/"
        },
        "id": "hk3A8pPcL9fp",
        "outputId": "3575d749-d65f-4d48-8cf5-460f9240c267"
      },
      "outputs": [
        {
          "output_type": "stream",
          "name": "stdout",
          "text": [
            "[3, 1, 2] 2\n",
            "2\n"
          ]
        }
      ],
      "source": [
        "xs = [3, 1, 2]   # Create a list\n",
        "print(xs, xs[2])\n",
        "print(xs[-1])     # Negative indices count from the end of the list; prints \"2\""
      ]
    },
    {
      "cell_type": "code",
      "execution_count": null,
      "metadata": {
        "colab": {
          "base_uri": "https://localhost:8080/",
          "height": 34
        },
        "id": "YCjCy_0_L9ft",
        "outputId": "417c54ff-170b-4372-9099-0f756f8e48af"
      },
      "outputs": [
        {
          "name": "stdout",
          "output_type": "stream",
          "text": [
            "[3, 1, 'foo']\n"
          ]
        }
      ],
      "source": [
        "xs[2] = 'foo'    # Lists can contain elements of different types\n",
        "print(xs)"
      ]
    },
    {
      "cell_type": "code",
      "execution_count": null,
      "metadata": {
        "colab": {
          "base_uri": "https://localhost:8080/",
          "height": 34
        },
        "id": "vJ0x5cF-L9fx",
        "outputId": "a97731a3-70e1-4553-d9e0-2aea227cac80"
      },
      "outputs": [
        {
          "name": "stdout",
          "output_type": "stream",
          "text": [
            "[3, 1, 'foo', 'bar']\n"
          ]
        }
      ],
      "source": [
        "xs.append('bar') # Add a new element to the end of the list\n",
        "print(xs)"
      ]
    },
    {
      "cell_type": "code",
      "execution_count": null,
      "metadata": {
        "colab": {
          "base_uri": "https://localhost:8080/",
          "height": 34
        },
        "id": "cxVCNRTNL9f1",
        "outputId": "508fbe59-20aa-48b5-a1b2-f90363e7a104"
      },
      "outputs": [
        {
          "name": "stdout",
          "output_type": "stream",
          "text": [
            "bar [3, 1, 'foo']\n"
          ]
        }
      ],
      "source": [
        "x = xs.pop()     # Remove and return the last element of the list\n",
        "print(x, xs)"
      ]
    },
    {
      "cell_type": "markdown",
      "metadata": {
        "id": "ilyoyO34L9f4"
      },
      "source": [
        "As usual, you can find all the gory details about lists in the [documentation](https://docs.python.org/3.7/tutorial/datastructures.html#more-on-lists)."
      ]
    },
    {
      "cell_type": "markdown",
      "metadata": {
        "id": "ovahhxd_L9f5"
      },
      "source": [
        "#### Slicing\n",
        "In addition to accessing list elements one at a time, Python provides concise syntax to access sublists; this is known as slicing:"
      ]
    },
    {
      "cell_type": "code",
      "execution_count": null,
      "metadata": {
        "colab": {
          "base_uri": "https://localhost:8080/",
          "height": 139
        },
        "id": "ninq666bL9f6",
        "outputId": "c3c2ed92-7358-4fdb-bbc0-e90f82e7e941"
      },
      "outputs": [
        {
          "name": "stdout",
          "output_type": "stream",
          "text": [
            "[0, 1, 2, 3, 4]\n",
            "[2, 3]\n",
            "[2, 3, 4]\n",
            "[0, 1]\n",
            "[0, 1, 2, 3, 4]\n",
            "[0, 1, 2, 3]\n",
            "[0, 1, 8, 9, 4]\n"
          ]
        }
      ],
      "source": [
        "nums = list(range(5))    # range is a built-in function that creates a list of integers\n",
        "print(nums)         # Prints \"[0, 1, 2, 3, 4]\"\n",
        "print(nums[2:4])    # Get a slice from index 2 to 4 (exclusive); prints \"[2, 3]\"\n",
        "print(nums[2:])     # Get a slice from index 2 to the end; prints \"[2, 3, 4]\"\n",
        "print(nums[:2])     # Get a slice from the start to index 2 (exclusive); prints \"[0, 1]\"\n",
        "print(nums[:])      # Get a slice of the whole list; prints [\"0, 1, 2, 3, 4]\"\n",
        "print(nums[:-1])    # Slice indices can be negative; prints [\"0, 1, 2, 3]\"\n",
        "nums[2:4] = [8, 9] # Assign a new sublist to a slice\n",
        "print(nums)         # Prints \"[0, 1, 8, 9, 4]\""
      ]
    },
    {
      "cell_type": "markdown",
      "metadata": {
        "id": "UONpMhF4L9f_"
      },
      "source": [
        "#### Loops"
      ]
    },
    {
      "cell_type": "markdown",
      "metadata": {
        "id": "_DYz1j6QL9f_"
      },
      "source": [
        "You can loop over the elements of a list like this:"
      ]
    },
    {
      "cell_type": "code",
      "execution_count": null,
      "metadata": {
        "colab": {
          "base_uri": "https://localhost:8080/",
          "height": 69
        },
        "id": "4cCOysfWL9gA",
        "outputId": "560e46c7-279c-409a-838c-64bea8d321c4"
      },
      "outputs": [
        {
          "name": "stdout",
          "output_type": "stream",
          "text": [
            "cat\n",
            "dog\n",
            "monkey\n"
          ]
        }
      ],
      "source": [
        "animals = ['cat', 'dog', 'monkey']\n",
        "for animal in animals:\n",
        "    print(animal)"
      ]
    },
    {
      "cell_type": "markdown",
      "metadata": {
        "id": "KxIaQs7pL9gE"
      },
      "source": [
        "If you want access to the index of each element within the body of a loop, use the built-in `enumerate` function:"
      ]
    },
    {
      "cell_type": "code",
      "execution_count": null,
      "metadata": {
        "colab": {
          "base_uri": "https://localhost:8080/",
          "height": 69
        },
        "id": "JjGnDluWL9gF",
        "outputId": "81421905-17ea-4c5a-bcc0-176de19fd9bd"
      },
      "outputs": [
        {
          "name": "stdout",
          "output_type": "stream",
          "text": [
            "#1: cat\n",
            "#2: dog\n",
            "#3: monkey\n"
          ]
        }
      ],
      "source": [
        "animals = ['cat', 'dog', 'monkey']\n",
        "for idx, animal in enumerate(animals):\n",
        "    print('#{}: {}'.format(idx + 1, animal))"
      ]
    },
    {
      "cell_type": "markdown",
      "metadata": {
        "id": "arrLCcMyL9gK"
      },
      "source": [
        "#### List comprehensions"
      ]
    },
    {
      "cell_type": "markdown",
      "metadata": {
        "id": "5Qn2jU_pL9gL"
      },
      "source": [
        "When programming, frequently we want to transform one type of data into another. As a simple example, consider the following code that computes square numbers:"
      ]
    },
    {
      "cell_type": "code",
      "execution_count": null,
      "metadata": {
        "colab": {
          "base_uri": "https://localhost:8080/",
          "height": 34
        },
        "id": "IVNEwoMXL9gL",
        "outputId": "d571445b-055d-45f0-f800-24fd76ceec5a"
      },
      "outputs": [
        {
          "name": "stdout",
          "output_type": "stream",
          "text": [
            "[0, 1, 4, 9, 16]\n"
          ]
        }
      ],
      "source": [
        "nums = [0, 1, 2, 3, 4]\n",
        "squares = []\n",
        "for x in nums:\n",
        "    squares.append(x ** 2)\n",
        "print(squares)"
      ]
    },
    {
      "cell_type": "markdown",
      "metadata": {
        "id": "7DmKVUFaL9gQ"
      },
      "source": [
        "You can make this code simpler using a list comprehension:"
      ]
    },
    {
      "cell_type": "code",
      "execution_count": null,
      "metadata": {
        "colab": {
          "base_uri": "https://localhost:8080/",
          "height": 34
        },
        "id": "kZxsUfV6L9gR",
        "outputId": "4254a7d4-58ba-4f70-a963-20c46b485b72"
      },
      "outputs": [
        {
          "name": "stdout",
          "output_type": "stream",
          "text": [
            "[0, 1, 4, 9, 16]\n"
          ]
        }
      ],
      "source": [
        "nums = [0, 1, 2, 3, 4]\n",
        "squares = [x ** 2 for x in nums]\n",
        "print(squares)"
      ]
    },
    {
      "cell_type": "markdown",
      "metadata": {
        "id": "-D8ARK7tL9gV"
      },
      "source": [
        "List comprehensions can also contain conditions:"
      ]
    },
    {
      "cell_type": "code",
      "execution_count": null,
      "metadata": {
        "colab": {
          "base_uri": "https://localhost:8080/",
          "height": 34
        },
        "id": "yUtgOyyYL9gV",
        "outputId": "1ae7ab58-8119-44dc-8e57-fda09197d026"
      },
      "outputs": [
        {
          "name": "stdout",
          "output_type": "stream",
          "text": [
            "[0, 4, 16]\n"
          ]
        }
      ],
      "source": [
        "nums = [0, 1, 2, 3, 4]\n",
        "even_squares = [x ** 2 for x in nums if x % 2 == 0]\n",
        "print(even_squares)"
      ]
    },
    {
      "cell_type": "markdown",
      "metadata": {
        "id": "H8xsUEFpL9gZ"
      },
      "source": [
        "### Dictionaries"
      ]
    },
    {
      "cell_type": "markdown",
      "metadata": {
        "id": "kkjAGMAJL9ga"
      },
      "source": [
        "A dictionary stores (key, value) pairs, similar to a `Map` in Java or an object in Javascript. You can use it like this:"
      ]
    },
    {
      "cell_type": "code",
      "execution_count": null,
      "metadata": {
        "colab": {
          "base_uri": "https://localhost:8080/",
          "height": 52
        },
        "id": "XBYI1MrYL9gb",
        "outputId": "8e24c1da-0fc0-4b4c-a3e6-6f758a53b7da"
      },
      "outputs": [
        {
          "name": "stdout",
          "output_type": "stream",
          "text": [
            "cute\n",
            "True\n"
          ]
        }
      ],
      "source": [
        "d = {'cat': 'cute', 'dog': 'furry'}  # Create a new dictionary with some data\n",
        "print(d['cat'])       # Get an entry from a dictionary; prints \"cute\"\n",
        "print('cat' in d)     # Check if a dictionary has a given key; prints \"True\""
      ]
    },
    {
      "cell_type": "code",
      "execution_count": null,
      "metadata": {
        "colab": {
          "base_uri": "https://localhost:8080/",
          "height": 34
        },
        "id": "pS7e-G-HL9gf",
        "outputId": "feb4bf18-c0a3-42a2-eaf5-3fc390f36dcf"
      },
      "outputs": [
        {
          "name": "stdout",
          "output_type": "stream",
          "text": [
            "wet\n"
          ]
        }
      ],
      "source": [
        "d['fish'] = 'wet'    # Set an entry in a dictionary\n",
        "print(d['fish'])      # Prints \"wet\""
      ]
    },
    {
      "cell_type": "code",
      "execution_count": null,
      "metadata": {
        "colab": {
          "base_uri": "https://localhost:8080/",
          "height": 165
        },
        "id": "tFY065ItL9gi",
        "outputId": "7e42a5f0-1856-4608-a927-0930ab37a66c"
      },
      "outputs": [
        {
          "ename": "KeyError",
          "evalue": "'monkey'",
          "output_type": "error",
          "traceback": [
            "\u001b[1;31m---------------------------------------------------------------------------\u001b[0m",
            "\u001b[1;31mKeyError\u001b[0m                                  Traceback (most recent call last)",
            "Input \u001b[1;32mIn [27]\u001b[0m, in \u001b[0;36m<cell line: 1>\u001b[1;34m()\u001b[0m\n\u001b[1;32m----> 1\u001b[0m \u001b[38;5;28mprint\u001b[39m(\u001b[43md\u001b[49m\u001b[43m[\u001b[49m\u001b[38;5;124;43m'\u001b[39;49m\u001b[38;5;124;43mmonkey\u001b[39;49m\u001b[38;5;124;43m'\u001b[39;49m\u001b[43m]\u001b[49m)\n",
            "\u001b[1;31mKeyError\u001b[0m: 'monkey'"
          ]
        }
      ],
      "source": [
        "print(d['monkey'])  # KeyError: 'monkey' not a key of d"
      ]
    },
    {
      "cell_type": "code",
      "execution_count": null,
      "metadata": {
        "colab": {
          "base_uri": "https://localhost:8080/",
          "height": 52
        },
        "id": "8TjbEWqML9gl",
        "outputId": "ef14d05e-401d-4d23-ed1a-0fe6b4c77d6f"
      },
      "outputs": [
        {
          "name": "stdout",
          "output_type": "stream",
          "text": [
            "N/A\n",
            "wet\n"
          ]
        }
      ],
      "source": [
        "print(d.get('monkey', 'N/A'))  # Get an element with a default; prints \"N/A\"\n",
        "print(d.get('fish', 'N/A'))    # Get an element with a default; prints \"wet\""
      ]
    },
    {
      "cell_type": "code",
      "execution_count": null,
      "metadata": {
        "colab": {
          "base_uri": "https://localhost:8080/",
          "height": 34
        },
        "id": "0EItdNBJL9go",
        "outputId": "652a950f-b0c2-4623-98bd-0191b300cd57"
      },
      "outputs": [
        {
          "name": "stdout",
          "output_type": "stream",
          "text": [
            "N/A\n"
          ]
        }
      ],
      "source": [
        "del d['fish']        # Remove an element from a dictionary\n",
        "print(d.get('fish', 'N/A')) # \"fish\" is no longer a key; prints \"N/A\""
      ]
    },
    {
      "cell_type": "markdown",
      "metadata": {
        "id": "wqm4dRZNL9gr"
      },
      "source": [
        "You can find all you need to know about dictionaries in the [documentation](https://docs.python.org/2/library/stdtypes.html#dict)."
      ]
    },
    {
      "cell_type": "markdown",
      "metadata": {
        "id": "IxwEqHlGL9gr"
      },
      "source": [
        "It is easy to iterate over the keys in a dictionary:"
      ]
    },
    {
      "cell_type": "code",
      "execution_count": null,
      "metadata": {
        "colab": {
          "base_uri": "https://localhost:8080/",
          "height": 69
        },
        "id": "rYfz7ZKNL9gs",
        "outputId": "155bdb17-3179-4292-c832-8166e955e942"
      },
      "outputs": [
        {
          "name": "stdout",
          "output_type": "stream",
          "text": [
            "A person has 2 legs\n",
            "A cat has 4 legs\n",
            "A spider has 8 legs\n"
          ]
        }
      ],
      "source": [
        "d = {'person': 2, 'cat': 4, 'spider': 8}\n",
        "for animal, legs in d.items():\n",
        "    print('A {} has {} legs'.format(animal, legs))"
      ]
    },
    {
      "cell_type": "markdown",
      "metadata": {
        "id": "17sxiOpzL9gz"
      },
      "source": [
        "Dictionary comprehensions: These are similar to list comprehensions, but allow you to easily construct dictionaries. For example:"
      ]
    },
    {
      "cell_type": "code",
      "execution_count": null,
      "metadata": {
        "colab": {
          "base_uri": "https://localhost:8080/",
          "height": 34
        },
        "id": "8PB07imLL9gz",
        "outputId": "e9ddf886-39ed-4f35-dd80-64a19d2eec9b"
      },
      "outputs": [
        {
          "name": "stdout",
          "output_type": "stream",
          "text": [
            "{0: 0, 2: 4, 4: 16}\n"
          ]
        }
      ],
      "source": [
        "nums = [0, 1, 2, 3, 4]\n",
        "even_num_to_square = {x: x ** 2 for x in nums if x % 2 == 0}\n",
        "print(even_num_to_square)"
      ]
    },
    {
      "cell_type": "markdown",
      "metadata": {
        "id": "V9MHfUdvL9g2"
      },
      "source": [
        "### Sets"
      ]
    },
    {
      "cell_type": "markdown",
      "metadata": {
        "id": "Rpm4UtNpL9g2"
      },
      "source": [
        "A set is an unordered collection of distinct elements. As a simple example, consider the following:"
      ]
    },
    {
      "cell_type": "code",
      "execution_count": null,
      "metadata": {
        "colab": {
          "base_uri": "https://localhost:8080/",
          "height": 52
        },
        "id": "MmyaniLsL9g2",
        "outputId": "8f152d48-0a07-432a-cf98-8de4fd57ddbb"
      },
      "outputs": [
        {
          "name": "stdout",
          "output_type": "stream",
          "text": [
            "True\n",
            "False\n"
          ]
        }
      ],
      "source": [
        "animals = {'cat', 'dog'}\n",
        "print('cat' in animals)   # Check if an element is in a set; prints \"True\"\n",
        "print('fish' in animals)  # prints \"False\"\n"
      ]
    },
    {
      "cell_type": "code",
      "execution_count": null,
      "metadata": {
        "colab": {
          "base_uri": "https://localhost:8080/",
          "height": 52
        },
        "id": "ElJEyK86L9g6",
        "outputId": "b9d7dab9-5a98-41cd-efbc-786d0c4377f7"
      },
      "outputs": [
        {
          "name": "stdout",
          "output_type": "stream",
          "text": [
            "True\n",
            "3\n"
          ]
        }
      ],
      "source": [
        "animals.add('fish')      # Add an element to a set\n",
        "print('fish' in animals)\n",
        "print(len(animals))       # Number of elements in a set;"
      ]
    },
    {
      "cell_type": "code",
      "execution_count": null,
      "metadata": {
        "colab": {
          "base_uri": "https://localhost:8080/",
          "height": 52
        },
        "id": "5uGmrxdPL9g9",
        "outputId": "e644d24c-26c6-4b43-ab15-8aa81fe884d4"
      },
      "outputs": [
        {
          "name": "stdout",
          "output_type": "stream",
          "text": [
            "3\n",
            "2\n"
          ]
        }
      ],
      "source": [
        "animals.add('cat')       # Adding an element that is already in the set does nothing\n",
        "print(len(animals))\n",
        "animals.remove('cat')    # Remove an element from a set\n",
        "print(len(animals))"
      ]
    },
    {
      "cell_type": "markdown",
      "metadata": {
        "id": "zk2DbvLKL9g_"
      },
      "source": [
        "_Loops_: Iterating over a set has the same syntax as iterating over a list; however since sets are unordered, you cannot make assumptions about the order in which you visit the elements of the set:"
      ]
    },
    {
      "cell_type": "code",
      "execution_count": null,
      "metadata": {
        "colab": {
          "base_uri": "https://localhost:8080/",
          "height": 69
        },
        "id": "K47KYNGyL9hA",
        "outputId": "4477f897-4355-4816-b39b-b93ffbac4bf0"
      },
      "outputs": [
        {
          "name": "stdout",
          "output_type": "stream",
          "text": [
            "#1: cat\n",
            "#2: dog\n",
            "#3: fish\n"
          ]
        }
      ],
      "source": [
        "animals = {'cat', 'dog', 'fish'}\n",
        "for idx, animal in enumerate(animals):\n",
        "    print('#{}: {}'.format(idx + 1, animal))"
      ]
    },
    {
      "cell_type": "markdown",
      "metadata": {
        "id": "puq4S8buL9hC"
      },
      "source": [
        "Set comprehensions: Like lists and dictionaries, we can easily construct sets using set comprehensions:"
      ]
    },
    {
      "cell_type": "code",
      "execution_count": null,
      "metadata": {
        "colab": {
          "base_uri": "https://localhost:8080/",
          "height": 34
        },
        "id": "iw7k90k3L9hC",
        "outputId": "72d6b824-6d31-47b2-f929-4cf434590ee5"
      },
      "outputs": [
        {
          "name": "stdout",
          "output_type": "stream",
          "text": [
            "{0, 1, 2, 3, 4, 5}\n"
          ]
        }
      ],
      "source": [
        "from math import sqrt\n",
        "print({int(sqrt(x)) for x in range(30)})"
      ]
    },
    {
      "cell_type": "markdown",
      "metadata": {
        "id": "qPsHSKB1L9hF"
      },
      "source": [
        "### Tuples"
      ]
    },
    {
      "cell_type": "markdown",
      "metadata": {
        "id": "kucc0LKVL9hG"
      },
      "source": [
        "A tuple is an (immutable) ordered list of values. A tuple is in many ways similar to a list; one of the most important differences is that tuples can be used as keys in dictionaries and as elements of sets, while lists cannot. Here is a trivial example:"
      ]
    },
    {
      "cell_type": "code",
      "execution_count": null,
      "metadata": {
        "colab": {
          "base_uri": "https://localhost:8080/",
          "height": 69
        },
        "id": "9wHUyTKxL9hH",
        "outputId": "cdc5f620-04fe-4b0b-df7a-55b061d23d88"
      },
      "outputs": [
        {
          "name": "stdout",
          "output_type": "stream",
          "text": [
            "<class 'tuple'>\n",
            "5\n",
            "1\n"
          ]
        }
      ],
      "source": [
        "d = {(x, x + 1): x for x in range(10)}  # Create a dictionary with tuple keys\n",
        "t = (5, 6)       # Create a tuple\n",
        "print(type(t))\n",
        "print(d[t])\n",
        "print(d[(1, 2)])"
      ]
    },
    {
      "cell_type": "code",
      "execution_count": null,
      "metadata": {
        "colab": {
          "base_uri": "https://localhost:8080/",
          "height": 165
        },
        "id": "HoO8zYKzL9hJ",
        "outputId": "28862bfc-0298-40d7-f8c4-168e109d2d93"
      },
      "outputs": [
        {
          "ename": "TypeError",
          "evalue": "'tuple' object does not support item assignment",
          "output_type": "error",
          "traceback": [
            "\u001b[1;31m---------------------------------------------------------------------------\u001b[0m",
            "\u001b[1;31mTypeError\u001b[0m                                 Traceback (most recent call last)",
            "Input \u001b[1;32mIn [38]\u001b[0m, in \u001b[0;36m<cell line: 1>\u001b[1;34m()\u001b[0m\n\u001b[1;32m----> 1\u001b[0m \u001b[43mt\u001b[49m\u001b[43m[\u001b[49m\u001b[38;5;241;43m0\u001b[39;49m\u001b[43m]\u001b[49m \u001b[38;5;241m=\u001b[39m \u001b[38;5;241m1\u001b[39m\n",
            "\u001b[1;31mTypeError\u001b[0m: 'tuple' object does not support item assignment"
          ]
        }
      ],
      "source": [
        "t[0] = 1"
      ]
    },
    {
      "cell_type": "markdown",
      "metadata": {
        "id": "AXA4jrEOL9hM"
      },
      "source": [
        "## Functions"
      ]
    },
    {
      "cell_type": "markdown",
      "metadata": {
        "id": "WaRms-QfL9hN"
      },
      "source": [
        "Python functions are defined using the `def` keyword. For example:"
      ]
    },
    {
      "cell_type": "code",
      "execution_count": null,
      "metadata": {
        "colab": {
          "base_uri": "https://localhost:8080/",
          "height": 69
        },
        "id": "kiMDUr58L9hN",
        "outputId": "9f53bf9a-7b2a-4c51-9def-398e4677cd6c"
      },
      "outputs": [
        {
          "name": "stdout",
          "output_type": "stream",
          "text": [
            "negative\n",
            "zero\n",
            "positive\n"
          ]
        }
      ],
      "source": [
        "def sign(x):\n",
        "    if x > 0:\n",
        "        return 'positive'\n",
        "    elif x < 0:\n",
        "        return 'negative'\n",
        "    else:\n",
        "        return 'zero'\n",
        "\n",
        "for x in [-1, 0, 1]:\n",
        "    print(sign(x))"
      ]
    },
    {
      "cell_type": "markdown",
      "metadata": {
        "id": "U-QJFt8TL9hR"
      },
      "source": [
        "We will often define functions to take optional keyword arguments, like this:"
      ]
    },
    {
      "cell_type": "code",
      "execution_count": null,
      "metadata": {
        "colab": {
          "base_uri": "https://localhost:8080/"
        },
        "id": "PfsZ3DazL9hR",
        "outputId": "1d05ae5d-7daa-4bb6-8654-f9ee5fdd93dc"
      },
      "outputs": [
        {
          "output_type": "stream",
          "name": "stdout",
          "text": [
            "Hello, Bob!\n",
            "HELLO, FRED\n"
          ]
        }
      ],
      "source": [
        "def hello(name, loud=False):\n",
        "    if loud:\n",
        "        print('HELLO, {}'.format(name.upper()))\n",
        "    else:\n",
        "        print('Hello, {}!'.format(name))\n",
        "\n",
        "hello('Bob')\n",
        "hello('Fred', loud=True)"
      ]
    },
    {
      "cell_type": "markdown",
      "metadata": {
        "id": "Q4j3ICnS9Or-"
      },
      "source": [
        "### $\\lambda$-functions"
      ]
    },
    {
      "cell_type": "code",
      "execution_count": null,
      "metadata": {
        "colab": {
          "base_uri": "https://localhost:8080/"
        },
        "id": "8kr1Zqve9Or-",
        "outputId": "219e9394-e948-4678-e3cd-a69ceb749767"
      },
      "outputs": [
        {
          "output_type": "execute_result",
          "data": {
            "text/plain": [
              "-98"
            ]
          },
          "metadata": {},
          "execution_count": 9
        }
      ],
      "source": [
        "f = lambda x, y: x+y-x*y\n",
        "f(10, 12)"
      ]
    },
    {
      "cell_type": "markdown",
      "metadata": {
        "id": "ObA9PRtQL9hT"
      },
      "source": [
        "## Classes"
      ]
    },
    {
      "cell_type": "markdown",
      "metadata": {
        "id": "h5bIZtRT9OsA"
      },
      "source": [
        "### Task: Course Management System for Students\n",
        "\n",
        "#### Description\n",
        "\n",
        "Develop a system to manage course enrollments for students at a university. This system should allow students to enroll in courses, drop courses, and list currently enrolled courses. Additionally, the system should enable the management of course information and track the history of student enrollments and course completions.\n",
        "\n",
        "#### Tasks\n",
        "\n",
        "1. **`Course` Class**:\n",
        "   - Attributes: course name, course code, maximum students, list of enrolled students.\n",
        "   - Methods: constructor, method to add a student to the course, method to remove a student from the course, method to display course info.\n",
        "\n",
        "2. **`Student` Class**:\n",
        "   - Attributes: student name, student ID, list of enrolled courses.\n",
        "   - Methods: constructor, methods for enrolling in a course, dropping a course, listing currently enrolled courses.\n",
        "\n",
        "3. **`EnrollmentSystem` Class**:\n",
        "   - Attributes: list of courses, list of students, enrollment history (which student enrolled in/dropped which course and when).\n",
        "   - Methods: constructor, methods for adding and removing courses, registering and deregistering students, methods for enrolling and dropping courses for students, method to display enrollment history.\n",
        "\n",
        "#### Assignment\n",
        "\n",
        "1. Implement the `Course`, `Student`, and `EnrollmentSystem` classes with the specified attributes and methods.\n",
        "2. Create several courses and students, and add them to the enrollment system.\n",
        "3. Implement scenarios for students enrolling in and dropping courses.\n",
        "4. Display the enrollment history to show the sequence of enrollments and course completions.\n",
        "\n",
        "This task focuses on object-oriented programming principles, encouraging the practice of managing relationships between objects (courses and students) within a larger system (the enrollment system).\n"
      ]
    },
    {
      "cell_type": "code",
      "execution_count": null,
      "metadata": {
        "id": "aOL3W84K9OsB"
      },
      "outputs": [],
      "source": [
        "class Course:\n",
        "  def __init__(self, name, code, max_students, enrolled_students=None):\n",
        "      self.name = name\n",
        "      self.code = code\n",
        "      self.max_students = max_students\n",
        "      if enrolled_students is None:\n",
        "          self.enrolled_students = []\n",
        "      else:\n",
        "        self.enrolled_students = enrolled_students\n",
        "   #   self.enrolled_students = [] if enrolled_students is None else enrolled_students\n",
        "\n",
        "  def add_student(self, student):\n",
        "        if len(self.enrolled_students) < self.max_students:\n",
        "            self.enrolled_students.append(student)\n",
        "            print('Done')\n",
        "        else:\n",
        "            print('The course is full')\n",
        "\n",
        "\n",
        "\n"
      ]
    },
    {
      "cell_type": "code",
      "source": [
        "StatPrak = Course(name='Statistical Practicum', code='007', max_students=2)"
      ],
      "metadata": {
        "id": "vYXdXmQ1Eeb_"
      },
      "execution_count": null,
      "outputs": []
    },
    {
      "cell_type": "code",
      "source": [
        "StatPrak.add_student('Misha')"
      ],
      "metadata": {
        "colab": {
          "base_uri": "https://localhost:8080/"
        },
        "id": "L2X5rjJMnvQy",
        "outputId": "13408de0-db15-46ef-f8f5-75304e0c4118"
      },
      "execution_count": null,
      "outputs": [
        {
          "output_type": "stream",
          "name": "stdout",
          "text": [
            "Done\n"
          ]
        }
      ]
    },
    {
      "cell_type": "code",
      "source": [
        "StatPrak.add_student('Masha')"
      ],
      "metadata": {
        "colab": {
          "base_uri": "https://localhost:8080/"
        },
        "id": "5zZa96K3FM16",
        "outputId": "631654f5-e3f3-4fd8-f59b-1026f5fa7a08"
      },
      "execution_count": null,
      "outputs": [
        {
          "output_type": "stream",
          "name": "stdout",
          "text": [
            "Done\n"
          ]
        }
      ]
    },
    {
      "cell_type": "code",
      "source": [
        "StatPrak.add_student('Isabella')"
      ],
      "metadata": {
        "colab": {
          "base_uri": "https://localhost:8080/"
        },
        "id": "mB1TS6YNn1g8",
        "outputId": "80dbf53c-34c6-4479-a02c-9fbbdee34fcb"
      },
      "execution_count": null,
      "outputs": [
        {
          "output_type": "stream",
          "name": "stdout",
          "text": [
            "The course is full\n"
          ]
        }
      ]
    },
    {
      "cell_type": "markdown",
      "metadata": {
        "id": "lL0MCmTs9OsC"
      },
      "source": [
        "# Homework"
      ]
    },
    {
      "cell_type": "markdown",
      "metadata": {
        "id": "GIYI3IAl9OsD"
      },
      "source": [
        "## Problem 1"
      ]
    },
    {
      "cell_type": "markdown",
      "metadata": {
        "id": "vRAeI5jz9OsD"
      },
      "source": [
        "Make a tuple containing natural numbers, the square of which is a multiple of 3, 4, but not a multiple of 8 and not exceeding 12345."
      ]
    },
    {
      "cell_type": "code",
      "execution_count": 1,
      "metadata": {
        "id": "A-DXwOSv9OsE",
        "colab": {
          "base_uri": "https://localhost:8080/"
        },
        "outputId": "b95a1141-3f22-48b2-817d-05b7683cda06"
      },
      "outputs": [
        {
          "output_type": "stream",
          "name": "stdout",
          "text": [
            "(6.0, 18.0, 30.0, 42.0, 54.0, 66.0, 78.0, 90.0, 102.0, 114.0, 126.0, 138.0, 150.0, 162.0, 174.0, 186.0, 198.0, 210.0, 222.0, 234.0, 246.0, 258.0, 270.0, 282.0, 294.0, 306.0, 318.0, 330.0, 342.0, 354.0, 366.0, 378.0, 390.0, 402.0, 414.0, 426.0, 438.0, 450.0, 462.0, 474.0, 486.0, 498.0, 510.0, 522.0, 534.0, 546.0, 558.0, 570.0, 582.0, 594.0, 606.0, 618.0, 630.0, 642.0, 654.0, 666.0, 678.0, 690.0, 702.0, 714.0, 726.0, 738.0, 750.0, 762.0, 774.0, 786.0, 798.0, 810.0, 822.0, 834.0, 846.0, 858.0, 870.0, 882.0, 894.0, 906.0, 918.0, 930.0, 942.0, 954.0, 966.0, 978.0, 990.0, 1002.0, 1014.0, 1026.0, 1038.0, 1050.0, 1062.0, 1074.0, 1086.0, 1098.0, 1110.0, 1122.0, 1134.0, 1146.0, 1158.0, 1170.0, 1182.0, 1194.0, 1206.0, 1218.0, 1230.0, 1242.0, 1254.0, 1266.0, 1278.0, 1290.0, 1302.0, 1314.0, 1326.0, 1338.0, 1350.0, 1362.0, 1374.0, 1386.0, 1398.0, 1410.0, 1422.0, 1434.0, 1446.0, 1458.0, 1470.0, 1482.0, 1494.0, 1506.0, 1518.0, 1530.0, 1542.0, 1554.0, 1566.0, 1578.0, 1590.0, 1602.0, 1614.0, 1626.0, 1638.0, 1650.0, 1662.0, 1674.0, 1686.0, 1698.0, 1710.0, 1722.0, 1734.0, 1746.0, 1758.0, 1770.0, 1782.0, 1794.0, 1806.0, 1818.0, 1830.0, 1842.0, 1854.0, 1866.0, 1878.0, 1890.0, 1902.0, 1914.0, 1926.0, 1938.0, 1950.0, 1962.0, 1974.0, 1986.0, 1998.0, 2010.0, 2022.0, 2034.0, 2046.0, 2058.0, 2070.0, 2082.0, 2094.0, 2106.0, 2118.0, 2130.0, 2142.0, 2154.0, 2166.0, 2178.0, 2190.0, 2202.0, 2214.0, 2226.0, 2238.0, 2250.0, 2262.0, 2274.0, 2286.0, 2298.0, 2310.0, 2322.0, 2334.0, 2346.0, 2358.0, 2370.0, 2382.0, 2394.0, 2406.0, 2418.0, 2430.0, 2442.0, 2454.0, 2466.0, 2478.0, 2490.0, 2502.0, 2514.0, 2526.0, 2538.0, 2550.0, 2562.0, 2574.0, 2586.0, 2598.0, 2610.0, 2622.0, 2634.0, 2646.0, 2658.0, 2670.0, 2682.0, 2694.0, 2706.0, 2718.0, 2730.0, 2742.0, 2754.0, 2766.0, 2778.0, 2790.0, 2802.0, 2814.0, 2826.0, 2838.0, 2850.0, 2862.0, 2874.0, 2886.0, 2898.0, 2910.0, 2922.0, 2934.0, 2946.0, 2958.0, 2970.0, 2982.0, 2994.0, 3006.0, 3018.0, 3030.0, 3042.0, 3054.0, 3066.0, 3078.0, 3090.0, 3102.0, 3114.0, 3126.0, 3138.0, 3150.0, 3162.0, 3174.0, 3186.0, 3198.0, 3210.0, 3222.0, 3234.0, 3246.0, 3258.0, 3270.0, 3282.0, 3294.0, 3306.0, 3318.0, 3330.0, 3342.0, 3354.0, 3366.0, 3378.0, 3390.0, 3402.0, 3414.0, 3426.0, 3438.0, 3450.0, 3462.0, 3474.0, 3486.0, 3498.0, 3510.0, 3522.0, 3534.0, 3546.0, 3558.0, 3570.0, 3582.0, 3594.0, 3606.0, 3618.0, 3630.0, 3642.0, 3654.0, 3666.0, 3678.0, 3690.0, 3702.0, 3714.0, 3726.0, 3738.0, 3750.0, 3762.0, 3774.0, 3786.0, 3798.0, 3810.0, 3822.0, 3834.0, 3846.0, 3858.0, 3870.0, 3882.0, 3894.0, 3906.0, 3918.0, 3930.0, 3942.0, 3954.0, 3966.0, 3978.0, 3990.0, 4002.0, 4014.0, 4026.0, 4038.0, 4050.0, 4062.0, 4074.0, 4086.0, 4098.0, 4110.0, 4122.0, 4134.0, 4146.0, 4158.0, 4170.0, 4182.0, 4194.0, 4206.0, 4218.0, 4230.0, 4242.0, 4254.0, 4266.0, 4278.0, 4290.0, 4302.0, 4314.0, 4326.0, 4338.0, 4350.0, 4362.0, 4374.0, 4386.0, 4398.0, 4410.0, 4422.0, 4434.0, 4446.0, 4458.0, 4470.0, 4482.0, 4494.0, 4506.0, 4518.0, 4530.0, 4542.0, 4554.0, 4566.0, 4578.0, 4590.0, 4602.0, 4614.0, 4626.0, 4638.0, 4650.0, 4662.0, 4674.0, 4686.0, 4698.0, 4710.0, 4722.0, 4734.0, 4746.0, 4758.0, 4770.0, 4782.0, 4794.0, 4806.0, 4818.0, 4830.0, 4842.0, 4854.0, 4866.0, 4878.0, 4890.0, 4902.0, 4914.0, 4926.0, 4938.0, 4950.0, 4962.0, 4974.0, 4986.0, 4998.0, 5010.0, 5022.0, 5034.0, 5046.0, 5058.0, 5070.0, 5082.0, 5094.0, 5106.0, 5118.0, 5130.0, 5142.0, 5154.0, 5166.0, 5178.0, 5190.0, 5202.0, 5214.0, 5226.0, 5238.0, 5250.0, 5262.0, 5274.0, 5286.0, 5298.0, 5310.0, 5322.0, 5334.0, 5346.0, 5358.0, 5370.0, 5382.0, 5394.0, 5406.0, 5418.0, 5430.0, 5442.0, 5454.0, 5466.0, 5478.0, 5490.0, 5502.0, 5514.0, 5526.0, 5538.0, 5550.0, 5562.0, 5574.0, 5586.0, 5598.0, 5610.0, 5622.0, 5634.0, 5646.0, 5658.0, 5670.0, 5682.0, 5694.0, 5706.0, 5718.0, 5730.0, 5742.0, 5754.0, 5766.0, 5778.0, 5790.0, 5802.0, 5814.0, 5826.0, 5838.0, 5850.0, 5862.0, 5874.0, 5886.0, 5898.0, 5910.0, 5922.0, 5934.0, 5946.0, 5958.0, 5970.0, 5982.0, 5994.0, 6006.0, 6018.0, 6030.0, 6042.0, 6054.0, 6066.0, 6078.0, 6090.0, 6102.0, 6114.0, 6126.0, 6138.0, 6150.0, 6162.0, 6174.0, 6186.0, 6198.0, 6210.0, 6222.0, 6234.0, 6246.0, 6258.0, 6270.0, 6282.0, 6294.0, 6306.0, 6318.0, 6330.0, 6342.0, 6354.0, 6366.0, 6378.0, 6390.0, 6402.0, 6414.0, 6426.0, 6438.0, 6450.0, 6462.0, 6474.0, 6486.0, 6498.0, 6510.0, 6522.0, 6534.0, 6546.0, 6558.0, 6570.0, 6582.0, 6594.0, 6606.0, 6618.0, 6630.0, 6642.0, 6654.0, 6666.0, 6678.0, 6690.0, 6702.0, 6714.0, 6726.0, 6738.0, 6750.0, 6762.0, 6774.0, 6786.0, 6798.0, 6810.0, 6822.0, 6834.0, 6846.0, 6858.0, 6870.0, 6882.0, 6894.0, 6906.0, 6918.0, 6930.0, 6942.0, 6954.0, 6966.0, 6978.0, 6990.0, 7002.0, 7014.0, 7026.0, 7038.0, 7050.0, 7062.0, 7074.0, 7086.0, 7098.0, 7110.0, 7122.0, 7134.0, 7146.0, 7158.0, 7170.0, 7182.0, 7194.0, 7206.0, 7218.0, 7230.0, 7242.0, 7254.0, 7266.0, 7278.0, 7290.0, 7302.0, 7314.0, 7326.0, 7338.0, 7350.0, 7362.0, 7374.0, 7386.0, 7398.0, 7410.0, 7422.0, 7434.0, 7446.0, 7458.0, 7470.0, 7482.0, 7494.0, 7506.0, 7518.0, 7530.0, 7542.0, 7554.0, 7566.0, 7578.0, 7590.0, 7602.0, 7614.0, 7626.0, 7638.0, 7650.0, 7662.0, 7674.0, 7686.0, 7698.0, 7710.0, 7722.0, 7734.0, 7746.0, 7758.0, 7770.0, 7782.0, 7794.0, 7806.0, 7818.0, 7830.0, 7842.0, 7854.0, 7866.0, 7878.0, 7890.0, 7902.0, 7914.0, 7926.0, 7938.0, 7950.0, 7962.0, 7974.0, 7986.0, 7998.0, 8010.0, 8022.0, 8034.0, 8046.0, 8058.0, 8070.0, 8082.0, 8094.0, 8106.0, 8118.0, 8130.0, 8142.0, 8154.0, 8166.0, 8178.0, 8190.0, 8202.0, 8214.0, 8226.0, 8238.0, 8250.0, 8262.0, 8274.0, 8286.0, 8298.0, 8310.0, 8322.0, 8334.0, 8346.0, 8358.0, 8370.0, 8382.0, 8394.0, 8406.0, 8418.0, 8430.0, 8442.0, 8454.0, 8466.0, 8478.0, 8490.0, 8502.0, 8514.0, 8526.0, 8538.0, 8550.0, 8562.0, 8574.0, 8586.0, 8598.0, 8610.0, 8622.0, 8634.0, 8646.0, 8658.0, 8670.0, 8682.0, 8694.0, 8706.0, 8718.0, 8730.0, 8742.0, 8754.0, 8766.0, 8778.0, 8790.0, 8802.0, 8814.0, 8826.0, 8838.0, 8850.0, 8862.0, 8874.0, 8886.0, 8898.0, 8910.0, 8922.0, 8934.0, 8946.0, 8958.0, 8970.0, 8982.0, 8994.0, 9006.0, 9018.0, 9030.0, 9042.0, 9054.0, 9066.0, 9078.0, 9090.0, 9102.0, 9114.0, 9126.0, 9138.0, 9150.0, 9162.0, 9174.0, 9186.0, 9198.0, 9210.0, 9222.0, 9234.0, 9246.0, 9258.0, 9270.0, 9282.0, 9294.0, 9306.0, 9318.0, 9330.0, 9342.0, 9354.0, 9366.0, 9378.0, 9390.0, 9402.0, 9414.0, 9426.0, 9438.0, 9450.0, 9462.0, 9474.0, 9486.0, 9498.0, 9510.0, 9522.0, 9534.0, 9546.0, 9558.0, 9570.0, 9582.0, 9594.0, 9606.0, 9618.0, 9630.0, 9642.0, 9654.0, 9666.0, 9678.0, 9690.0, 9702.0, 9714.0, 9726.0, 9738.0, 9750.0, 9762.0, 9774.0, 9786.0, 9798.0, 9810.0, 9822.0, 9834.0, 9846.0, 9858.0, 9870.0, 9882.0, 9894.0, 9906.0, 9918.0, 9930.0, 9942.0, 9954.0, 9966.0, 9978.0, 9990.0, 10002.0, 10014.0, 10026.0, 10038.0, 10050.0, 10062.0, 10074.0, 10086.0, 10098.0, 10110.0, 10122.0, 10134.0, 10146.0, 10158.0, 10170.0, 10182.0, 10194.0, 10206.0, 10218.0, 10230.0, 10242.0, 10254.0, 10266.0, 10278.0, 10290.0, 10302.0, 10314.0, 10326.0, 10338.0, 10350.0, 10362.0, 10374.0, 10386.0, 10398.0, 10410.0, 10422.0, 10434.0, 10446.0, 10458.0, 10470.0, 10482.0, 10494.0, 10506.0, 10518.0, 10530.0, 10542.0, 10554.0, 10566.0, 10578.0, 10590.0, 10602.0, 10614.0, 10626.0, 10638.0, 10650.0, 10662.0, 10674.0, 10686.0, 10698.0, 10710.0, 10722.0, 10734.0, 10746.0, 10758.0, 10770.0, 10782.0, 10794.0, 10806.0, 10818.0, 10830.0, 10842.0, 10854.0, 10866.0, 10878.0, 10890.0, 10902.0, 10914.0, 10926.0, 10938.0, 10950.0, 10962.0, 10974.0, 10986.0, 10998.0, 11010.0, 11022.0, 11034.0, 11046.0, 11058.0, 11070.0, 11082.0, 11094.0, 11106.0, 11118.0, 11130.0, 11142.0, 11154.0, 11166.0, 11178.0, 11190.0, 11202.0, 11214.0, 11226.0, 11238.0, 11250.0, 11262.0, 11274.0, 11286.0, 11298.0, 11310.0, 11322.0, 11334.0, 11346.0, 11358.0, 11370.0, 11382.0, 11394.0, 11406.0, 11418.0, 11430.0, 11442.0, 11454.0, 11466.0, 11478.0, 11490.0, 11502.0, 11514.0, 11526.0, 11538.0, 11550.0, 11562.0, 11574.0, 11586.0, 11598.0, 11610.0, 11622.0, 11634.0, 11646.0, 11658.0, 11670.0, 11682.0, 11694.0, 11706.0, 11718.0, 11730.0, 11742.0, 11754.0, 11766.0, 11778.0, 11790.0, 11802.0, 11814.0, 11826.0, 11838.0, 11850.0, 11862.0, 11874.0, 11886.0, 11898.0, 11910.0, 11922.0, 11934.0, 11946.0, 11958.0, 11970.0, 11982.0, 11994.0, 12006.0, 12018.0, 12030.0, 12042.0, 12054.0, 12066.0, 12078.0, 12090.0, 12102.0, 12114.0, 12126.0, 12138.0, 12150.0, 12162.0, 12174.0, 12186.0, 12198.0, 12210.0, 12222.0, 12234.0, 12246.0, 12258.0, 12270.0, 12282.0, 12294.0, 12306.0, 12318.0, 12330.0, 12342.0)\n"
          ]
        }
      ],
      "source": [
        "# Your solution here\n",
        "numbers = []\n",
        "for i in range(1, 12346):\n",
        "    square = i**2\n",
        "    sq_root = square**0.5\n",
        "    if square % 3 == 0 and square % 4 == 0 and square % 8 != 0:\n",
        "        numbers.append(sq_root)\n",
        "\n",
        "tuple_numbers = tuple(numbers)\n",
        "print(tuple_numbers)"
      ]
    },
    {
      "cell_type": "markdown",
      "metadata": {
        "id": "7W-F7O4e9OsF"
      },
      "source": [
        "## Problem 2"
      ]
    },
    {
      "cell_type": "markdown",
      "metadata": {
        "id": "AJ_pKzz89OsG"
      },
      "source": [
        "\n",
        "Write a function that takes a two-dimensional array and a string as input and returns an array rotated 90 degrees counterclockwise if the string 'left' was passed, and clockwise if the string 'right' was passed.\n",
        "\n",
        "Example for input: $\\begin{bmatrix} 1 & 2 & 3 \\\\ 4 & 5 & 6 \\\\ 7 & 8 & 9 \\end{bmatrix}$.\\\n",
        "If the string 'left' is passed, the function should return $\\begin{bmatrix} 3 & 6 & 9 \\\\ 2 & 5 & 8 \\\\ 1 & 4 & 7 \\end{bmatrix}$, and if the string 'right' is passed, the function should return $\\begin{bmatrix} 7 & 4 & 1 \\\\ 8 & 5 & 2 \\\\ 9 & 6 & 3 \\end{bmatrix}$."
      ]
    },
    {
      "cell_type": "code",
      "execution_count": 2,
      "metadata": {
        "id": "Yc4IF6tV9OsG"
      },
      "outputs": [],
      "source": [
        "# Your solution here\n",
        "def rotate_array(arr, direction):\n",
        "    # Check if the direction is valid\n",
        "    if direction.lower() not in ['left', 'right']:\n",
        "      print(\"Invalid direction. Use either 'left' or 'right'.\")\n",
        "      return 0\n",
        "    # Store the number of rows and columns in the array\n",
        "    rows = len(arr)\n",
        "    cols = len(arr[0])\n",
        "    # Create an empty result array with reversed dimensions\n",
        "    result = [[0] * rows for _ in range(cols)]\n",
        "    # Perform the rotation based on the direction\n",
        "    if direction.lower() == 'left':\n",
        "        # Rotate counterclockwise\n",
        "        for i in range(rows):\n",
        "            for j in range(cols):\n",
        "                result[cols - 1 - j][i] = arr[i][j]\n",
        "    else:\n",
        "        # Rotate clockwise\n",
        "        for i in range(rows):\n",
        "            for j in range(cols):\n",
        "                result[j][rows - 1 - i] = arr[i][j]\n",
        "\n",
        "    return result"
      ]
    },
    {
      "cell_type": "code",
      "source": [
        "array = [[1, 2, 3], [4, 5, 6], [7, 8, 9]]\n",
        "direction = 'left'\n",
        "result = rotate_array(array, direction)\n",
        "print(result)"
      ],
      "metadata": {
        "colab": {
          "base_uri": "https://localhost:8080/"
        },
        "id": "ZtDFV9DvrdLS",
        "outputId": "a50f893c-6351-4bd7-f27a-8f93e3798b75"
      },
      "execution_count": 3,
      "outputs": [
        {
          "output_type": "stream",
          "name": "stdout",
          "text": [
            "[[3, 6, 9], [2, 5, 8], [1, 4, 7]]\n"
          ]
        }
      ]
    },
    {
      "cell_type": "code",
      "source": [
        "array = [[1, 2, 3], [4, 5, 6], [7, 8, 9]]\n",
        "direction = 'right'\n",
        "result = rotate_array(array, direction)\n",
        "print(result)"
      ],
      "metadata": {
        "colab": {
          "base_uri": "https://localhost:8080/"
        },
        "id": "QZtZsPcPrpX2",
        "outputId": "5d3260bd-d473-4ce8-c82a-5ee04ee03188"
      },
      "execution_count": 4,
      "outputs": [
        {
          "output_type": "stream",
          "name": "stdout",
          "text": [
            "[[7, 4, 1], [8, 5, 2], [9, 6, 3]]\n"
          ]
        }
      ]
    },
    {
      "cell_type": "code",
      "source": [
        "array = [[1, 2, 3], [4, 5, 6], [7, 8, 9]]\n",
        "direction = 'up'\n",
        "result = rotate_array(array, direction)\n",
        "print(result)"
      ],
      "metadata": {
        "colab": {
          "base_uri": "https://localhost:8080/"
        },
        "id": "NffRmb19NCVa",
        "outputId": "25b9f5f8-c334-4b53-998c-d4fae80d21cf"
      },
      "execution_count": 5,
      "outputs": [
        {
          "output_type": "stream",
          "name": "stdout",
          "text": [
            "Invalid direction. Use either 'left' or 'right'.\n",
            "0\n"
          ]
        }
      ]
    },
    {
      "cell_type": "markdown",
      "metadata": {
        "id": "29SSlGe79OsH"
      },
      "source": [
        "## Problem 3"
      ]
    },
    {
      "cell_type": "markdown",
      "metadata": {
        "id": "tE7SyBzn9OsH"
      },
      "source": [
        "Write a function that takes a string as input and returns a dictionary containing the number of occurrences of each character in the string.\n",
        "\n",
        "Example for the string 'hello, world!': {'h': 1, 'e': 1, 'l': 3, 'o': 2, ',': 1, ' ': 1, 'w': 1, 'r': 1, 'd': 1, '!': 1}."
      ]
    },
    {
      "cell_type": "code",
      "execution_count": 6,
      "metadata": {
        "id": "YUTzn5Or9OsI",
        "colab": {
          "base_uri": "https://localhost:8080/"
        },
        "outputId": "c6c49818-9e49-4372-e2ef-77846aafd8d4"
      },
      "outputs": [
        {
          "output_type": "stream",
          "name": "stdout",
          "text": [
            "{'h': 1, 'e': 1, 'l': 3, 'o': 2, ',': 1, ' ': 1, 'w': 1, 'r': 1, 'd': 1}\n"
          ]
        }
      ],
      "source": [
        "# Your solution here\n",
        "def count_characters(input_string):\n",
        "    char_count = {}\n",
        "    for char in input_string:\n",
        "        if char not in char_count:\n",
        "            char_count[char] = 1\n",
        "        else:\n",
        "            char_count[char] += 1\n",
        "    return char_count\n",
        "\n",
        "# Example from the task\n",
        "input_string = \"hello, world\"\n",
        "result = count_characters(input_string)\n",
        "print(result)"
      ]
    },
    {
      "cell_type": "markdown",
      "metadata": {
        "id": "7X-XxtyG9OsJ"
      },
      "source": [
        "## Problem 4"
      ]
    },
    {
      "cell_type": "markdown",
      "metadata": {
        "id": "WpJO93mB9OsK"
      },
      "source": [
        "### Implementing a Library Management System\n",
        "\n",
        "#### Description\n",
        "\n",
        "You are required to design and implement a system for managing books and users in a library. The system should allow for the management of books (adding, deleting, searching by various criteria) and users (registration, deletion, searching), as well as tracking the history of interactions between them (issuing and returning books).\n",
        "\n",
        "#### Tasks\n",
        "\n",
        "1. **`Book` Class**:\n",
        "   - Attributes: title, author, year of publication, ISBN, number of copies.\n",
        "   - Methods: constructor, methods to get information about the book, method to change the number of copies (when issuing and returning books).\n",
        "\n",
        "2. **`User` Class**:\n",
        "   - Attributes: user name, library card number, list of borrowed books.\n",
        "   - Methods: constructor, methods for user registration, methods for adding and removing books from the borrowed list.\n",
        "\n",
        "3. **`Library` Class**:\n",
        "   - Attributes: list of books, list of users, transaction history (who, when, which book was borrowed and returned).\n",
        "   - Methods: constructor, methods for adding and deleting books and users, methods for issuing and returning books, searching for books and users by various criteria, method to display the transaction history.\n",
        "\n",
        "#### Assignment\n",
        "\n",
        "1. Implement the `Book`, `User`, and `Library` classes with the specified attributes and methods.\n",
        "2. Create several books and users, and add them to the library system.\n",
        "3. Implement scenarios for issuing books to users and their return.\n",
        "4. Display the transaction history to show how books were issued and returned.\n"
      ]
    },
    {
      "cell_type": "code",
      "execution_count": 8,
      "metadata": {
        "id": "f5xfL0xE9OsL"
      },
      "outputs": [],
      "source": [
        "class Book:\n",
        "    def __init__(self, title, author, year, ISBN, num_copies):\n",
        "        self.title = title\n",
        "        self.author = author\n",
        "        self.year = year\n",
        "        self.ISBN = ISBN\n",
        "        self.num_copies = num_copies\n",
        "\n",
        "    def show_info(self):\n",
        "        return f\"{self.title} by {self.author}, {self.year}, ISBN: {self.ISBN}, Copies Available: {self.num_copies}\"\n",
        "\n",
        "    def change_num_copies(self, num):\n",
        "        self.num_copies += num\n"
      ]
    },
    {
      "cell_type": "code",
      "source": [
        "class User:\n",
        "    def __init__(self, name, card_num, borrowed_books = None):\n",
        "        self.name = name\n",
        "        self.card_num = card_num\n",
        "        self.borrowed_books = []\n",
        "\n",
        "    def registration(self, name, card_num):\n",
        "        self.name = name\n",
        "        self.card_num = card_num\n",
        "\n",
        "    def add_book(self, book):\n",
        "        self.borrowed_books.append(book)\n",
        "\n",
        "    def remove_book(self, book):\n",
        "        self.borrowed_books.remove(book)"
      ],
      "metadata": {
        "id": "El9jJ0QciDV9"
      },
      "execution_count": 16,
      "outputs": []
    },
    {
      "cell_type": "code",
      "source": [
        "class Library:\n",
        "  def __init__(self):\n",
        "        self.books = []\n",
        "        self.users = []\n",
        "        self.transaction_history = []\n",
        "\n",
        "  def add_book(self, book):\n",
        "        self.books.append(book)\n",
        "\n",
        "  def delete_book(self, book):\n",
        "        self.books.remove(book)\n",
        "\n",
        "  def add_user(self, user):\n",
        "        self.users.append(user)\n",
        "\n",
        "  def delete_user(self, user):\n",
        "        self.users.remove(user)\n",
        "\n",
        "  def issue_book(self, user, book):\n",
        "        if book.num_copies > 0:\n",
        "            user.add_book(book)\n",
        "            book.change_num_copies(-1)\n",
        "            self.transaction_history.append(f\"{user.name} borrowed {book.title}\")\n",
        "        else:\n",
        "            print(\"Book not available.\")\n",
        "\n",
        "  def return_book(self, user, book):\n",
        "        user.remove_book(book)\n",
        "        book.change_num_copies(1)\n",
        "        self.transaction_history.append(f\"{user.name} returned {book.title}\")\n",
        "\n",
        "  def search_books(self, criteria):\n",
        "        # Search for books based on criteria\n",
        "        pass\n",
        "\n",
        "  def search_users(self, criteria):\n",
        "        # Search for users based on criteria\n",
        "        pass\n",
        "\n",
        "  def display_history(self):\n",
        "        for transaction in self.transaction_history:\n",
        "            print(transaction)\n",
        "\n"
      ],
      "metadata": {
        "id": "r-0gLI6ok-E6"
      },
      "execution_count": 18,
      "outputs": []
    },
    {
      "cell_type": "code",
      "source": [
        "# Create books\n",
        "book1 = Book(\"Three from Prostokvashino\", \"E. Uspensky\", 1973, \"9781449355767\", 5)\n",
        "book2 = Book(\"Hello, world\", \"Every new programmer\", 2024, \"9780201633610\", 3)\n",
        "\n",
        "# Create users\n",
        "user1 = User(\"Maria Morozova\", \"12345\")\n",
        "user2 = User(\"Talented programmer\", \"54321\")\n",
        "\n",
        "# Create Library\n",
        "library = Library()\n",
        "\n",
        "# Add books to library\n",
        "library.add_book(book1)\n",
        "library.add_book(book2)\n",
        "\n",
        "# Add users to library\n",
        "library.add_user(user1)\n",
        "library.add_user(user2)\n",
        "\n",
        "# Issue book to user\n",
        "library.issue_book(user1, book1)\n",
        "library.issue_book(user2, book2)\n",
        "library.issue_book(user2, book1)\n",
        "\n",
        "# Return book from user\n",
        "library.return_book(user1, book1)\n",
        "library.return_book(user2, book2)\n",
        "library.return_book(user2, book1)\n",
        "\n",
        "\n",
        "# Display transaction history\n",
        "library.display_history()"
      ],
      "metadata": {
        "colab": {
          "base_uri": "https://localhost:8080/"
        },
        "id": "qdiARZTXvcnx",
        "outputId": "3484fd31-8235-4bd3-fcd0-35d9446c3501"
      },
      "execution_count": 25,
      "outputs": [
        {
          "output_type": "stream",
          "name": "stdout",
          "text": [
            "Maria Morozova borrowed Three from Prostokvashino\n",
            "Talented programmer borrowed Hello, world\n",
            "Talented programmer borrowed Three from Prostokvashino\n",
            "Maria Morozova returned Three from Prostokvashino\n",
            "Talented programmer returned Hello, world\n",
            "Talented programmer returned Three from Prostokvashino\n"
          ]
        }
      ]
    },
    {
      "cell_type": "markdown",
      "metadata": {
        "id": "QD-k7Lav9OsL"
      },
      "source": [
        "## Problem 5*"
      ]
    },
    {
      "cell_type": "markdown",
      "metadata": {
        "id": "anCbXOUg9OsM"
      },
      "source": [
        "Explain why list `b` changes after the execution of the following code:\n",
        "\n",
        "```python\n",
        "a = [1, 2, 3]\n",
        "b = [a]\n",
        "a[0] = 4\n",
        "print(b)\n",
        "```"
      ]
    },
    {
      "cell_type": "markdown",
      "metadata": {
        "id": "DdgNjdC69OsM"
      },
      "source": [
        "> Write your answer in markdown cell after:"
      ]
    },
    {
      "cell_type": "markdown",
      "metadata": {
        "id": "psuwOEoY9OsN"
      },
      "source": [
        "List b changes after the execution of the following code because if we assign b as [a], we basically create a new list object b references to the same list object a => any changes that we make with a will also be reflected in b because they are connected to the same memory location. In other words, the list object stores pointers to objects, but not the objects themselves.\n",
        "\n",
        "For instance, when we modify the value at index 0 of list a to 4, it changes the value in the original list object and in the new one too. Therefore, when we print the value of b, it reflects the updated value [4, 2, 3]."
      ]
    },
    {
      "cell_type": "markdown",
      "metadata": {
        "id": "P1UENhSt9OsN"
      },
      "source": [
        "## Problem 6*"
      ]
    },
    {
      "cell_type": "markdown",
      "metadata": {
        "id": "6u08nVqc9OsO"
      },
      "source": [
        "Let\n",
        "$$A = \\sum_{i=1}^{10000} \\frac{1}{i^2},\\quad B=\\sum_{i=10000}^{1} \\frac{1}{i^2}.$$\n",
        "Calculate the values of $A$ and $B$ and compare them. What do you observe? Explain why this happens. What is the best way to calculate the value of $\\sum\\limits_{i=1}^{10000} \\dfrac{1}{i^2}$?"
      ]
    },
    {
      "cell_type": "code",
      "execution_count": 11,
      "metadata": {
        "id": "Bms7TMoq9OsO",
        "colab": {
          "base_uri": "https://localhost:8080/"
        },
        "outputId": "8e101fcc-23b1-450f-d6a8-49dc2df1326f"
      },
      "outputs": [
        {
          "output_type": "stream",
          "name": "stdout",
          "text": [
            "Variant A equals 1.6448340718480652\n",
            "Variant B equals 1.6448340718480596\n"
          ]
        }
      ],
      "source": [
        "# Your solution here\n",
        "A=0\n",
        "B=0\n",
        "for i in range (1, 10001):\n",
        "  A+=1/(i**2)\n",
        "for i in range (0,10000):\n",
        "  B+=1/((10000-i)**2)\n",
        "print ('Variant A equals', A)\n",
        "print ('Variant B equals', B)"
      ]
    },
    {
      "cell_type": "markdown",
      "source": [
        " My observation: Question 1: This happens due to the rounding errors that accumulate during the summation process. In our case, when summing in reverse order, we start with large values and move to smaller ones, where large values of 1/(i^2) are first added to the sum, and then when we approach small values, they are added to larger values, which can lead to  rounding errors and eventually to different  sums at the end. \\\\\n",
        " Question 2: Theoretically, the closer the number is to 0, the higher the accuracy\n",
        "(The allowable numbers for float on the numeric line are unevenly distributed: more values in the area of zero and less in the area of huge numbers). In this case, B is better."
      ],
      "metadata": {
        "id": "OrQnHquP3vUN"
      }
    }
  ],
  "metadata": {
    "colab": {
      "provenance": []
    },
    "kernelspec": {
      "display_name": "Python 3",
      "language": "python",
      "name": "python3"
    },
    "language_info": {
      "codemirror_mode": {
        "name": "ipython",
        "version": 3
      },
      "file_extension": ".py",
      "mimetype": "text/x-python",
      "name": "python",
      "nbconvert_exporter": "python",
      "pygments_lexer": "ipython3",
      "version": "3.10.6"
    }
  },
  "nbformat": 4,
  "nbformat_minor": 0
}