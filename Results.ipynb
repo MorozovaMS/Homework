{
  "nbformat": 4,
  "nbformat_minor": 0,
  "metadata": {
    "colab": {
      "provenance": []
    },
    "kernelspec": {
      "name": "python3",
      "display_name": "Python 3"
    },
    "language_info": {
      "name": "python"
    }
  },
  "cells": [
    {
      "cell_type": "markdown",
      "source": [
        "Здесь я действую следующим образом - если у человека встречается 0 или пропуск, то я вычитая единицу из саммуарного числа баллов, исключением является оценка за проект - если там пропуск или 0, то я вычитаю два балла (подчеркиваю extra важность)"
      ],
      "metadata": {
        "id": "RIkVH-zsmWJz"
      }
    },
    {
      "cell_type": "code",
      "source": [
        "import pandas as pd\n",
        "data = pd.read_csv('/content/Table .csv')\n",
        "\n",
        "# Заменяем пустые ячейки на 0\n",
        "data.fillna(0, inplace=True)\n",
        "data['Total'] = data[['Python basics', 'Numpy & Matplotlib', 'Random', 'Pandas', 'kNN', 'Project', 'Clustering']].sum(axis=1)\n",
        "\n",
        "for index, row in data.iterrows():\n",
        "    if row.isnull().any() or (row == 0).any():\n",
        "        data.at[index, 'Total'] -= 1\n",
        "\n",
        "for index, row in data.iterrows():\n",
        "    if pd.isnull(row['Project']) or row['Project'] == 0:\n",
        "        data.at[index, 'Total'] -= 2\n",
        "total_scores = data.groupby('Student')['Total'].sum()\n",
        "print(total_scores)\n"
      ],
      "metadata": {
        "colab": {
          "base_uri": "https://localhost:8080/"
        },
        "id": "3UsTIENjfbU1",
        "outputId": "c6a45ad2-7d4a-422d-93b5-f0c14aa7df78"
      },
      "execution_count": 15,
      "outputs": [
        {
          "output_type": "stream",
          "name": "stdout",
          "text": [
            "Student\n",
            "Агаева Эмилия Назимовна          13.0\n",
            "Бакланов Владимир                 5.5\n",
            "Бауман Артём Георгиевич           9.5\n",
            "Вехов Иван Олегович              17.0\n",
            "Виноградова Мария                14.0\n",
            "Гладков Иван                     16.0\n",
            "Горностаев Геннадий              -3.0\n",
            "Дручук Георгий                   20.0\n",
            "Егоров Кирилл Сергеевич           0.0\n",
            "Зайцев Даниил                    18.0\n",
            "Караваева Александра             18.0\n",
            "Килимчук Иван Вячеславович       16.0\n",
            "Кираев Булат Рустамович          17.0\n",
            "Козлов Глеб Денисович            16.0\n",
            "Корнийчук Павел Павлович         13.0\n",
            "Малышев Максим                   18.0\n",
            "Микляева Дарья                   18.0\n",
            "Мирошниченко Никита Игоревич     18.5\n",
            "Морозова Мария                   20.0\n",
            "Родионова Мария Романовна        17.0\n",
            "Русанов Эрик                     14.5\n",
            "Садыков Артур Маратович           6.0\n",
            "Сёмин Михаил Максимович          13.5\n",
            "Тарасюк Екатерина                16.5\n",
            "Тылык Даниил                     16.5\n",
            "Уваров Андрей                    15.0\n",
            "Циберева Елизавета Кирилловна    18.5\n",
            "Шипицын Матвей                   14.0\n",
            "Яранцев Егор Евгеньевич          12.0\n",
            "Name: Total, dtype: float64\n"
          ]
        }
      ]
    },
    {
      "cell_type": "code",
      "source": [
        "from sklearn.cluster import KMeans\n",
        "\n",
        "kmeans = KMeans(n_clusters=3, random_state=0)\n",
        "kmeans.fit(data['Total'].values.reshape(-1, 1))\n",
        "data['Cluster'] = kmeans.labels_\n",
        "cluster_mapping = {0: 'Зачет автоматом', 1: 'Пересдача', 2: 'Сдача зачета'}\n",
        "\n",
        "for index, row in data.iterrows():\n",
        "    print(f\"{row['Student']} - {cluster_mapping[row['Cluster']]}\")"
      ],
      "metadata": {
        "colab": {
          "base_uri": "https://localhost:8080/"
        },
        "id": "mwfr97mCm2gH",
        "outputId": "d1bd7971-53cd-4688-8dcd-02c6684d8f8f"
      },
      "execution_count": 22,
      "outputs": [
        {
          "output_type": "stream",
          "name": "stdout",
          "text": [
            "Агаева Эмилия Назимовна - Сдача зачета\n",
            "Бауман Артём Георгиевич - Сдача зачета\n",
            "Вехов Иван Олегович - Зачет автоматом\n",
            "Егоров Кирилл Сергеевич - Пересдача\n",
            "Килимчук Иван Вячеславович - Зачет автоматом\n",
            "Кираев Булат Рустамович - Зачет автоматом\n",
            "Козлов Глеб Денисович - Зачет автоматом\n",
            "Корнийчук Павел Павлович - Сдача зачета\n",
            "Мирошниченко Никита Игоревич - Зачет автоматом\n",
            "Родионова Мария Романовна - Зачет автоматом\n",
            "Садыков Артур Маратович - Пересдача\n",
            "Сёмин Михаил Максимович - Сдача зачета\n",
            "Циберева Елизавета Кирилловна - Зачет автоматом\n",
            "Яранцев Егор Евгеньевич - Сдача зачета\n",
            "Бакланов Владимир - Пересдача\n",
            "Виноградова Мария - Сдача зачета\n",
            "Гладков Иван - Зачет автоматом\n",
            "Горностаев Геннадий - Пересдача\n",
            "Дручук Георгий - Зачет автоматом\n",
            "Зайцев Даниил - Зачет автоматом\n",
            "Караваева Александра - Зачет автоматом\n",
            "Малышев Максим - Зачет автоматом\n",
            "Микляева Дарья - Зачет автоматом\n",
            "Морозова Мария - Зачет автоматом\n",
            "Русанов Эрик - Сдача зачета\n",
            "Тарасюк Екатерина - Зачет автоматом\n",
            "Тылык Даниил - Зачет автоматом\n",
            "Шипицын Матвей - Сдача зачета\n",
            "Уваров Андрей - Сдача зачета\n"
          ]
        },
        {
          "output_type": "stream",
          "name": "stderr",
          "text": [
            "/usr/local/lib/python3.10/dist-packages/sklearn/cluster/_kmeans.py:870: FutureWarning: The default value of `n_init` will change from 10 to 'auto' in 1.4. Set the value of `n_init` explicitly to suppress the warning\n",
            "  warnings.warn(\n"
          ]
        }
      ]
    },
    {
      "cell_type": "markdown",
      "source": [
        "PS я использовала сокращённую Екатериной Тарасюк таблицу в целях экономии времени читки самой таблицы. Данные все valid."
      ],
      "metadata": {
        "id": "M0eEG0DZqBzH"
      }
    }
  ]
}